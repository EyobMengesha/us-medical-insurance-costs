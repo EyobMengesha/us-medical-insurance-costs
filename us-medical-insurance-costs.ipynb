{
 "cells": [
  {
   "cell_type": "markdown",
   "metadata": {},
   "source": [
    "# U.S. Medical Insurance Costs"
   ]
  },
  {
   "cell_type": "code",
   "execution_count": 5,
   "metadata": {},
   "outputs": [],
   "source": [
    "import csv\n",
    "\n",
    "with open('insurance.csv') as insurance_file:\n",
    "    insurance_csv = csv.DictReader(insurance_file)\n",
    "    age_arr = []\n",
    "    sex_arr = []\n",
    "    bmi_arr = []\n",
    "    region_arr = []\n",
    "    children_arr = []\n",
    "    charges_arr = []\n",
    "    for items in insurance_csv:\n",
    "        age_arr.append(items['age'])\n",
    "        sex_arr.append(items['sex'])\n",
    "        bmi_arr.append(items['bmi'])\n",
    "        region_arr.append(items['region'])\n",
    "        children_arr.append(items['children'])\n",
    "        charges_arr.append(items['charges'])\n",
    "    \n"
   ]
  },
  {
   "cell_type": "code",
   "execution_count": 15,
   "metadata": {
    "scrolled": true
   },
   "outputs": [
    {
     "name": "stdout",
     "output_type": "stream",
     "text": [
      "The average age is 39.20702541106129\n"
     ]
    }
   ],
   "source": [
    "#calculate the total number of children\n",
    "def average_age(age_list):\n",
    "    total_age = 0\n",
    "    for age in age_list:\n",
    "        total_age+= float(age)\n",
    "    return (total_age / len(age_list))\n",
    "print(\"The average age is \" + str(average_age(age_arr)))\n"
   ]
  },
  {
   "cell_type": "code",
   "execution_count": 19,
   "metadata": {},
   "outputs": [
    {
     "name": "stdout",
     "output_type": "stream",
     "text": [
      "The total insurance cost below age 40 is 6845964.6493489975\n",
      " the total insurance cost above the age 40 is 10909860.34141\n",
      "The difference would be 4063895.6920610024\n"
     ]
    }
   ],
   "source": [
    "#calculate the difference in cost for ages below 30 and above\n",
    "def costdif_calculator(num):\n",
    "    age_cost = list(zip(age_arr,charges_arr))\n",
    "    cost_below_age = 0\n",
    "    cost_above_age = 0\n",
    "    for age,charge in age_cost:\n",
    "        if int(age) >= num: \n",
    "            cost_above_age += float(charge)\n",
    "        else:\n",
    "            cost_below_age += float(charge)\n",
    "    difference = abs(cost_above_age - cost_below_age)\n",
    "    print(\"The total insurance cost below age {} is {}\\n the total insurance cost above the age {} is {}\".format(num,cost_below_age,num, cost_above_age) )\n",
    "    print(\"The difference would be \" + str(difference))\n",
    "    \n",
    "costdif_calculator(40)"
   ]
  },
  {
   "cell_type": "code",
   "execution_count": 37,
   "metadata": {},
   "outputs": [],
   "source": [
    "#creat dictionary\n"
   ]
  },
  {
   "cell_type": "code",
   "execution_count": null,
   "metadata": {},
   "outputs": [],
   "source": []
  },
  {
   "cell_type": "code",
   "execution_count": null,
   "metadata": {},
   "outputs": [],
   "source": []
  }
 ],
 "metadata": {
  "kernelspec": {
   "display_name": "Python 3 (ipykernel)",
   "language": "python",
   "name": "python3"
  },
  "language_info": {
   "codemirror_mode": {
    "name": "ipython",
    "version": 3
   },
   "file_extension": ".py",
   "mimetype": "text/x-python",
   "name": "python",
   "nbconvert_exporter": "python",
   "pygments_lexer": "ipython3",
   "version": "3.10.9"
  }
 },
 "nbformat": 4,
 "nbformat_minor": 4
}
